{
 "cells": [
  {
   "attachments": {},
   "cell_type": "markdown",
   "metadata": {},
   "source": [
    "# Practico 2 - Exploración Y Curación"
   ]
  },
  {
   "attachments": {},
   "cell_type": "markdown",
   "metadata": {},
   "source": [
    "En este práctico vamos a continuar el análisis del práctico anterior, aplicandole algunas técnicas de curación y manipulación de datos para profundizar y extender el analisis.\n",
    "\n",
    "Vamos a enfocarnos en las columnas que tienen mas potencial de analisis y ver de que otras maneras podemos explorar el dataset."
   ]
  },
  {
   "attachments": {},
   "cell_type": "markdown",
   "metadata": {},
   "source": [
    "## Consignas\n",
    "### Para columnas Numéricas\n",
    "\n",
    "Aplicar los análisis propuestos en las consignas 1 y 2 sobre: *budget, revenue, popularity, vote_average, vote_count, runtime*\n",
    "\n",
    "1. Establecer reglas de filtrado para los datos anomalos que encuentren en cada variable. \n",
    "    - Cada regla tiene que estar justificada por escrito, dando alguna explicación correspondiente a la naturaleza de la variable o cómo se presenta en el dataset.\n",
    "\n",
    "    - Según el estudio de outliers que hicieron en el práctico anterior, definan filtros para eliminar los outliers siempre que sea funcional al análisis. Justifiquen el porqué de los límites que establezcan. Aquí quiero que entiendan por qué el dato que ven es un outlier y lo expliquen (En caso de que lo hayan hecho en el práctico anterior, no es necesario repetir el análisis).\n",
    "\n",
    "    - Noten que quiero diferenciar datos erroneos de outliers porque no son lo mismo. Las reglas de filtrado no deberian tratarlos como si lo fueran, o al menos se deberia aclarar si se hacen ambas al mismo tiempo. Traten a las reglas de filtrado como documentacion del proceso\n",
    "\n",
    "2. Escalado\n",
    "    - Las distintas columnas numéricas del dataset son distintas en escala y eso dificulta analizar como se relacionan. Elijan algún método para escalarlas entre los que hayan estudiado (StandardScaler, MinMaxScaler, etc.) y aplíquenlo. \n",
    "\n",
    "3. Analisis\n",
    "    - Luego de aplicar las reglas, hagan visualizaciones de las correlaciones entre las distintas columnas y expliquen lo que se vea. El sentido de escalar las variables es poder relacionarlas entre sí, y encontrar la verdadera relación entre ellas, sin la influencia de los rangos que puede tomar cada una.\n",
    "\n",
    "    - Hacer analisis de correlacion y responder: \n",
    "        - ¿Cómo cambia la relación entre popularity y vote_average con las variables escaladas a un mismo rango?\n",
    "        - Y entre budget y revenue?\n",
    "        - Entre runtime y budget?\n",
    "        - (Agregar mas comparaciones si lo desean)\n",
    "        \n",
    "4. Construir una variable nueva\n",
    "    - A diferencia de popularity, vote_average tiene una distribución cercana a la normal. Esto la hace un poco más atractiva a la hora de analizar tendencias. Vamos a utilizar la variable vote_count para darle más peso a vote_average. Sabemos que no es lo mismo una película que fue votada 4 veces que una que fue votada 400 veces. El voto tiene más peso en el último caso. Quiero que construyan una nueva variable \"score\" que esté conformada por la combinación entre vote_average y vote_count. La variable score la van a calcular a partir de la formula de IMDB para calcular score a partir del voto promedio y la cantidad de votos (Ver anexo)\n",
    "\n",
    "    - Responder:\n",
    "        - ¿Hay diferencias entre la nueva columna y vote_average?\n",
    "        - ¿Cómo se diferencia con popularity?\n",
    "\n",
    "\n",
    "### Para columnas Categóricas\n",
    "\n",
    "Elijan al menos una de las siguientes columnas para aplicarle el análisis propuesto en la consigna 1: *genres, original_language, production_companies, production_countries, spoken_languages*\n",
    "\n",
    "1. Aplicar one-hot encoding o dummy\n",
    "\n",
    "    - La mayoría de las variables tienen muchas categorías, por lo que el resultado del encoding va a ser una matriz muy extensa en cantidad de columnas. Para evitar esto, vamos a elegir aquellas categorías que sean predominantes y aplicar sobre ellas el análisis. Sobre género, por ejemplo, pueden elegir los 10 o 20 géneros con más películas presentes.\n",
    "\n",
    "    - Para poder realizar este ejercicio es necesario tener un set único de categorías para las columnas que contienen listas. (realizado en el práctico anterior)\n",
    "\n",
    "2. Agregar las palabras clave de cada película\n",
    "    - Usar el archivo 'keywords.csv' para agregar a cada película una columna nueva que contenga una lista con las palabras clave. Por ejemplo, para el caso de Toy Story, la columna \"keywords\" debería ser: ['jealousy', 'toy', 'boy', 'friendship', 'friends', 'rivalry', 'boy next door', 'new toy', 'toy comes to life'].\n",
    "\n",
    "    - Una vez hecha la columna, usar los métodos aplicados sobre las otras columnas con listas para analizar la columna keywords.\n",
    "\n",
    "    - Responder: ¿Hay alguna sensación o grupo de palabras con cierta intención que sea predominante?\n"
   ]
  },
  {
   "attachments": {},
   "cell_type": "markdown",
   "metadata": {},
   "source": [
    "## Anexo: Calculo de Score usando la formula de IMDB\n",
    "\n",
    "Fuente: https://www.kaggle.com/code/ashleshkhajbage/building-movie-recommendation-system"
   ]
  },
  {
   "cell_type": "code",
   "execution_count": 2,
   "metadata": {},
   "outputs": [],
   "source": [
    "# import necessary libraries\n",
    "import numpy as np\n",
    "import pandas as pd\n",
    "import matplotlib.pyplot as plt\n",
    "from sklearn.preprocessing import MinMaxScaler, RobustScaler, StandardScaler"
   ]
  },
  {
   "cell_type": "code",
   "execution_count": 4,
   "metadata": {},
   "outputs": [
    {
     "data": {
      "image/png": "[encoded data removed]",
      "text/plain": [
       "<Figure size 640x480 with 1 Axes>"
      ]
     },
     "metadata": {},
     "output_type": "display_data"
    }
   ],
   "source": [
    "# Imdb's weighted rating formula\n",
    "plt.imshow(plt.imread('wr.png'))\n",
    "plt.axis(\"off\")\n",
    "plt.show()"
   ]
  },
  {
   "attachments": {},
   "cell_type": "markdown",
   "metadata": {},
   "source": [
    "Donde:\n",
    "\n",
    "- v: Cantidad de votos de la pelicula\n",
    "- m: Cantidad minima de votos para ser listada\n",
    "- R: promedio de votos de la pelicula\n",
    "- C: promedio de votos de todas las peliculas"
   ]
  },
  {
   "cell_type": "code",
   "execution_count": 6,
   "metadata": {},
   "outputs": [
    {
     "name": "stderr",
     "output_type": "stream",
     "text": [
      "C:\\Users\\Lucho\\AppData\\Local\\Temp\\ipykernel_5936\\2782030221.py:2: DtypeWarning: Columns (10) have mixed types. Specify dtype option on import or set low_memory=False.\n",
      "  movies_dataset = pd.read_csv('../movies_metadata.csv')\n"
     ]
    }
   ],
   "source": [
    "# import movies_dataset from csv file\n",
    "movies_dataset = pd.read_csv('../movies_metadata.csv')"
   ]
  },
  {
   "cell_type": "code",
   "execution_count": 7,
   "metadata": {},
   "outputs": [],
   "source": [
    "# create copy of columns vote_count and vote_average\n",
    "votes = movies_dataset[['vote_count', 'vote_average']].copy()"
   ]
  },
  {
   "cell_type": "code",
   "execution_count": 8,
   "metadata": {},
   "outputs": [],
   "source": [
    "C= votes['vote_average'].mean() # promedio de votos\n",
    "m= votes['vote_count'].quantile(0.9) # usamos el valor del percentil 90 para determinar el piso de votos requeridos para ser considerado\n",
    "\n",
    "def weighted_rating(x, m=m, C=C):\n",
    "    v = x['vote_count']\n",
    "    R = x['vote_average']\n",
    "    # Calculation based on the IMDB formula\n",
    "    return (v/(v+m) * R) + (m/(m+v) * C)"
   ]
  },
  {
   "cell_type": "code",
   "execution_count": 10,
   "metadata": {},
   "outputs": [
    {
     "data": {
      "text/html": [
       "<div>\n",
       "<style scoped>\n",
       "    .dataframe tbody tr th:only-of-type {\n",
       "        vertical-align: middle;\n",
       "    }\n",
       "\n",
       "    .dataframe tbody tr th {\n",
       "        vertical-align: top;\n",
       "    }\n",
       "\n",
       "    .dataframe thead th {\n",
       "        text-align: right;\n",
       "    }\n",
       "</style>\n",
       "<table border=\"1\" class=\"dataframe\">\n",
       "  <thead>\n",
       "    <tr style=\"text-align: right;\">\n",
       "      <th></th>\n",
       "      <th>vote_count</th>\n",
       "      <th>vote_average</th>\n",
       "      <th>score</th>\n",
       "    </tr>\n",
       "  </thead>\n",
       "  <tbody>\n",
       "    <tr>\n",
       "      <th>0</th>\n",
       "      <td>5415.0</td>\n",
       "      <td>7.7</td>\n",
       "      <td>7.640253</td>\n",
       "    </tr>\n",
       "    <tr>\n",
       "      <th>1</th>\n",
       "      <td>2413.0</td>\n",
       "      <td>6.9</td>\n",
       "      <td>6.820293</td>\n",
       "    </tr>\n",
       "    <tr>\n",
       "      <th>2</th>\n",
       "      <td>92.0</td>\n",
       "      <td>6.5</td>\n",
       "      <td>5.940132</td>\n",
       "    </tr>\n",
       "    <tr>\n",
       "      <th>3</th>\n",
       "      <td>34.0</td>\n",
       "      <td>6.1</td>\n",
       "      <td>5.702645</td>\n",
       "    </tr>\n",
       "    <tr>\n",
       "      <th>4</th>\n",
       "      <td>173.0</td>\n",
       "      <td>5.7</td>\n",
       "      <td>5.660700</td>\n",
       "    </tr>\n",
       "  </tbody>\n",
       "</table>\n",
       "</div>"
      ],
      "text/plain": [
       "   vote_count  vote_average     score\n",
       "0      5415.0           7.7  7.640253\n",
       "1      2413.0           6.9  6.820293\n",
       "2        92.0           6.5  5.940132\n",
       "3        34.0           6.1  5.702645\n",
       "4       173.0           5.7  5.660700"
      ]
     },
     "execution_count": 10,
     "metadata": {},
     "output_type": "execute_result"
    }
   ],
   "source": [
    "# Calculamos score\n",
    "votes['score'] = votes.apply(weighted_rating, axis=1)\n",
    "votes.head(5)"
   ]
  },
  {
   "cell_type": "code",
   "execution_count": null,
   "metadata": {},
   "outputs": [],
   "source": []
  }
 ],
 "metadata": {
  "kernelspec": {
   "display_name": "neoland",
   "language": "python",
   "name": "python3"
  },
  "language_info": {
   "codemirror_mode": {
    "name": "ipython",
    "version": 3
   },
   "file_extension": ".py",
   "mimetype": "text/x-python",
   "name": "python",
   "nbconvert_exporter": "python",
   "pygments_lexer": "ipython3",
   "version": "3.9.13"
  },
  "orig_nbformat": 4
 },
 "nbformat": 4,
 "nbformat_minor": 2
}
